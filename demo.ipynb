{
 "cells": [
  {
   "cell_type": "code",
   "execution_count": null,
   "metadata": {},
   "outputs": [],
   "source": [
    "import pandas as pd\n",
    "import numpy as np\n",
    "import matplotlib.pyplot as plt\n",
    "import warnings\n",
    "import statsmodels\n",
    "from math import sqrt\n",
    "from sklearn.metrics import mean_squared_error as mse\n",
    "df=pd.read_csv(r\"daily-minimum-temperatures-in-me.csv\")\n",
    "df.index = pd.to_datetime(df.Date)\n",
    "df.drop(columns=['Date'],inplace=True)\n",
    "train=df.iloc[0:3285,:]\n",
    "test=df.iloc[3285:,:]\n",
    "dd=train.Temperature\n",
    "y_hat=test.copy()"
   ]
  },
  {
   "cell_type": "code",
   "execution_count": null,
   "metadata": {},
   "outputs": [],
   "source": [
    "warnings.filterwarnings(\"ignore\")\n",
    "from statsmodels.tsa.arima_model import ARIMA \n",
    " \n",
    "pmax = int(5)    #一般阶数不超过 length /10\n",
    "qmax = int(5)\n",
    "bic_matrix = []\n",
    "for p in range(pmax +1):\n",
    "    temp= []\n",
    "    for q in range(qmax+1):\n",
    "        try:\n",
    "            temp.append(ARIMA(dd, (p, 1, q)).fit().bic)\n",
    "        except:\n",
    "            temp.append(None)\n",
    "        bic_matrix.append(temp)\n",
    " \n",
    "bic_matrix = pd.DataFrame(bic_matrix)   #将其转换成Dataframe 数据结构\n",
    "p,q = bic_matrix.stack().idxmin()   #先使用stack 展平， 然后使用 idxmin 找出最小值的位置\n",
    "print(u'BIC 最小的p值 和 q 值：%s,%s' %(p,q)) "
   ]
  },
  {
   "cell_type": "code",
   "execution_count": null,
   "metadata": {},
   "outputs": [],
   "source": [
    "def get_ARIMA_params(data, pdq, m=12):\n",
    "    p = d = q = range(0, 3)\n",
    "    seasonal_pdq = [(x[0], x[1], x[2], m) for x in list(itertools.product(p, d, q))]\n",
    "    score_aic = 1000000.0\n",
    "    warnings.filterwarnings(\"ignore\") # specify to ignore warning messages\n",
    "    for param_seasonal in seasonal_pdq:\n",
    "        mod = sm.tsa.statespace.SARIMAX(data,\n",
    "                                        order=pdq,\n",
    "                                        seasonal_order=param_seasonal,\n",
    "                                        enforce_stationarity=False,\n",
    "                                        enforce_invertibility=False)\n",
    "        results = mod.fit()\n",
    "        print('x{}12 - AIC:{}'.format(param_seasonal, results.aic))\n",
    "        if results.aic < score_aic:\n",
    "            score_aic = results.aic\n",
    "            params = param_seasonal, results.aic\n",
    "    param_seasonal, results.aic = params\n",
    "    print('x{}12 - AIC:{}'.format(param_seasonal, results.aic))\n",
    "pdq = [0, 1, 1]\n",
    "get_ARIMA_params(data, pdq, m=52)"
   ]
  }
 ],
 "metadata": {
  "kernelspec": {
   "display_name": "Python 3",
   "language": "python",
   "name": "python3"
  },
  "language_info": {
   "codemirror_mode": {
    "name": "ipython",
    "version": 3
   },
   "file_extension": ".py",
   "mimetype": "text/x-python",
   "name": "python",
   "nbconvert_exporter": "python",
   "pygments_lexer": "ipython3",
   "version": "3.7.4"
  }
 },
 "nbformat": 4,
 "nbformat_minor": 2
}
